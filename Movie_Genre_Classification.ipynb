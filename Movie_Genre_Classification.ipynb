{
  "cells": [
    {
      "cell_type": "markdown",
      "source": [
        "#**Movie Genre Classification**\n",
        "\n"
      ],
      "metadata": {
        "id": "v3U58N9itklo"
      }
    },
    {
      "cell_type": "markdown",
      "metadata": {
        "id": "_3r5Vm_eKpH_"
      },
      "source": [
        "#Import necessary libraries"
      ]
    },
    {
      "cell_type": "code",
      "execution_count": null,
      "metadata": {
        "id": "FhKYuMeYNrwJ"
      },
      "outputs": [],
      "source": [
        "import pandas as pd\n",
        "from sklearn.feature_extraction.text import TfidfVectorizer\n",
        "from sklearn.naive_bayes import MultinomialNB\n",
        "from sklearn.metrics import accuracy_score, classification_report"
      ]
    },
    {
      "cell_type": "markdown",
      "metadata": {
        "id": "FMVUSVANNqDS"
      },
      "source": [
        "#Load training data"
      ]
    },
    {
      "cell_type": "code",
      "execution_count": null,
      "metadata": {
        "id": "OE8ot4A4N0ta"
      },
      "outputs": [],
      "source": [
        "train_data = 'train_data.txt'\n",
        "columns = ['ID', 'TITLE', 'GENRE', 'DESCRIPTION']\n",
        "df_train = pd.read_csv(train_data, delimiter=' ::: ', header=None, names=columns,engine='python')"
      ]
    },
    {
      "cell_type": "markdown",
      "metadata": {
        "id": "kneEe8oHNqGd"
      },
      "source": [
        "#Data Preprocessing for training data"
      ]
    },
    {
      "cell_type": "code",
      "execution_count": null,
      "metadata": {
        "id": "gOcP9HFcN5ym"
      },
      "outputs": [],
      "source": [
        "df_train['DESCRIPTION'].fillna('', inplace=True)"
      ]
    },
    {
      "cell_type": "markdown",
      "metadata": {
        "id": "Gx8321meNqI8"
      },
      "source": [
        "#Create and fit the TF-IDF vectorizer"
      ]
    },
    {
      "cell_type": "code",
      "execution_count": null,
      "metadata": {
        "id": "v-4Rl4AMJjGU"
      },
      "outputs": [],
      "source": [
        "tfidf_vectorizer = TfidfVectorizer(max_features=5000)\n",
        "X_train_tfidf = tfidf_vectorizer.fit_transform(df_train['DESCRIPTION'])"
      ]
    },
    {
      "cell_type": "markdown",
      "metadata": {
        "id": "5Z0T0JHZKn5J"
      },
      "source": [
        "#Train a Multinomial Naive Bayes classifier"
      ]
    },
    {
      "cell_type": "code",
      "execution_count": null,
      "metadata": {
        "id": "9wmcPSUvOEi4",
        "colab": {
          "base_uri": "https://localhost:8080/",
          "height": 74
        },
        "outputId": "109bdcb4-fe0d-409f-e6df-531b9e5add04"
      },
      "outputs": [
        {
          "output_type": "execute_result",
          "data": {
            "text/plain": [
              "MultinomialNB()"
            ],
            "text/html": [
              "<style>#sk-container-id-1 {color: black;background-color: white;}#sk-container-id-1 pre{padding: 0;}#sk-container-id-1 div.sk-toggleable {background-color: white;}#sk-container-id-1 label.sk-toggleable__label {cursor: pointer;display: block;width: 100%;margin-bottom: 0;padding: 0.3em;box-sizing: border-box;text-align: center;}#sk-container-id-1 label.sk-toggleable__label-arrow:before {content: \"▸\";float: left;margin-right: 0.25em;color: #696969;}#sk-container-id-1 label.sk-toggleable__label-arrow:hover:before {color: black;}#sk-container-id-1 div.sk-estimator:hover label.sk-toggleable__label-arrow:before {color: black;}#sk-container-id-1 div.sk-toggleable__content {max-height: 0;max-width: 0;overflow: hidden;text-align: left;background-color: #f0f8ff;}#sk-container-id-1 div.sk-toggleable__content pre {margin: 0.2em;color: black;border-radius: 0.25em;background-color: #f0f8ff;}#sk-container-id-1 input.sk-toggleable__control:checked~div.sk-toggleable__content {max-height: 200px;max-width: 100%;overflow: auto;}#sk-container-id-1 input.sk-toggleable__control:checked~label.sk-toggleable__label-arrow:before {content: \"▾\";}#sk-container-id-1 div.sk-estimator input.sk-toggleable__control:checked~label.sk-toggleable__label {background-color: #d4ebff;}#sk-container-id-1 div.sk-label input.sk-toggleable__control:checked~label.sk-toggleable__label {background-color: #d4ebff;}#sk-container-id-1 input.sk-hidden--visually {border: 0;clip: rect(1px 1px 1px 1px);clip: rect(1px, 1px, 1px, 1px);height: 1px;margin: -1px;overflow: hidden;padding: 0;position: absolute;width: 1px;}#sk-container-id-1 div.sk-estimator {font-family: monospace;background-color: #f0f8ff;border: 1px dotted black;border-radius: 0.25em;box-sizing: border-box;margin-bottom: 0.5em;}#sk-container-id-1 div.sk-estimator:hover {background-color: #d4ebff;}#sk-container-id-1 div.sk-parallel-item::after {content: \"\";width: 100%;border-bottom: 1px solid gray;flex-grow: 1;}#sk-container-id-1 div.sk-label:hover label.sk-toggleable__label {background-color: #d4ebff;}#sk-container-id-1 div.sk-serial::before {content: \"\";position: absolute;border-left: 1px solid gray;box-sizing: border-box;top: 0;bottom: 0;left: 50%;z-index: 0;}#sk-container-id-1 div.sk-serial {display: flex;flex-direction: column;align-items: center;background-color: white;padding-right: 0.2em;padding-left: 0.2em;position: relative;}#sk-container-id-1 div.sk-item {position: relative;z-index: 1;}#sk-container-id-1 div.sk-parallel {display: flex;align-items: stretch;justify-content: center;background-color: white;position: relative;}#sk-container-id-1 div.sk-item::before, #sk-container-id-1 div.sk-parallel-item::before {content: \"\";position: absolute;border-left: 1px solid gray;box-sizing: border-box;top: 0;bottom: 0;left: 50%;z-index: -1;}#sk-container-id-1 div.sk-parallel-item {display: flex;flex-direction: column;z-index: 1;position: relative;background-color: white;}#sk-container-id-1 div.sk-parallel-item:first-child::after {align-self: flex-end;width: 50%;}#sk-container-id-1 div.sk-parallel-item:last-child::after {align-self: flex-start;width: 50%;}#sk-container-id-1 div.sk-parallel-item:only-child::after {width: 0;}#sk-container-id-1 div.sk-dashed-wrapped {border: 1px dashed gray;margin: 0 0.4em 0.5em 0.4em;box-sizing: border-box;padding-bottom: 0.4em;background-color: white;}#sk-container-id-1 div.sk-label label {font-family: monospace;font-weight: bold;display: inline-block;line-height: 1.2em;}#sk-container-id-1 div.sk-label-container {text-align: center;}#sk-container-id-1 div.sk-container {/* jupyter's `normalize.less` sets `[hidden] { display: none; }` but bootstrap.min.css set `[hidden] { display: none !important; }` so we also need the `!important` here to be able to override the default hidden behavior on the sphinx rendered scikit-learn.org. See: https://github.com/scikit-learn/scikit-learn/issues/21755 */display: inline-block !important;position: relative;}#sk-container-id-1 div.sk-text-repr-fallback {display: none;}</style><div id=\"sk-container-id-1\" class=\"sk-top-container\"><div class=\"sk-text-repr-fallback\"><pre>MultinomialNB()</pre><b>In a Jupyter environment, please rerun this cell to show the HTML representation or trust the notebook. <br />On GitHub, the HTML representation is unable to render, please try loading this page with nbviewer.org.</b></div><div class=\"sk-container\" hidden><div class=\"sk-item\"><div class=\"sk-estimator sk-toggleable\"><input class=\"sk-toggleable__control sk-hidden--visually\" id=\"sk-estimator-id-1\" type=\"checkbox\" checked><label for=\"sk-estimator-id-1\" class=\"sk-toggleable__label sk-toggleable__label-arrow\">MultinomialNB</label><div class=\"sk-toggleable__content\"><pre>MultinomialNB()</pre></div></div></div></div></div>"
            ]
          },
          "metadata": {},
          "execution_count": 5
        }
      ],
      "source": [
        "clf = MultinomialNB()\n",
        "clf.fit(X_train_tfidf, df_train['GENRE'])"
      ]
    },
    {
      "cell_type": "markdown",
      "metadata": {
        "id": "yeM4_6kTKpFm"
      },
      "source": [
        "#Load test data"
      ]
    },
    {
      "cell_type": "code",
      "execution_count": null,
      "metadata": {
        "id": "PcDm0k24OKvY"
      },
      "outputs": [],
      "source": [
        "test_data = 'test_data.txt'\n",
        "columns_test = ['ID', 'TITLE', 'DESCRIPTION']\n",
        "df_test = pd.read_csv(test_data, delimiter=' ::: ', header=None, names=columns_test ,engine ='python')"
      ]
    },
    {
      "cell_type": "markdown",
      "metadata": {
        "id": "D-x3ILu-KpLd"
      },
      "source": [
        "#Data Preprocessing for test data"
      ]
    },
    {
      "cell_type": "code",
      "execution_count": null,
      "metadata": {
        "id": "ZY710CNSORIL"
      },
      "outputs": [],
      "source": [
        "df_test['DESCRIPTION'].fillna('', inplace=True)"
      ]
    },
    {
      "cell_type": "markdown",
      "metadata": {
        "id": "dzMKcbksKn7r"
      },
      "source": [
        "#Feature extraction for test data"
      ]
    },
    {
      "cell_type": "code",
      "execution_count": null,
      "metadata": {
        "id": "j64QWaJ0OdhF"
      },
      "outputs": [],
      "source": [
        "X_test_tfidf = tfidf_vectorizer.transform(df_test['DESCRIPTION'])"
      ]
    },
    {
      "cell_type": "markdown",
      "metadata": {
        "id": "narQmT5WKn-c"
      },
      "source": [
        "#Load test data solution"
      ]
    },
    {
      "cell_type": "code",
      "execution_count": null,
      "metadata": {
        "id": "7a-Y-FPrOjAo"
      },
      "outputs": [],
      "source": [
        "test_solution = 'test_data_solution.txt'\n",
        "columns_solution = ['ID', 'TITLE', 'GENRE', 'DESCRIPTION']  # Adjust column names for test solution\n",
        "df_test_solution = pd.read_csv(test_solution, delimiter=' ::: ', header=None, names=columns_solution ,engine='python')"
      ]
    },
    {
      "cell_type": "markdown",
      "metadata": {
        "id": "gyoDy5edOh7J"
      },
      "source": [
        "Predictions on the test set"
      ]
    },
    {
      "cell_type": "code",
      "execution_count": null,
      "metadata": {
        "id": "zm8TDBheOngu"
      },
      "outputs": [],
      "source": [
        "predictions_test = clf.predict(X_test_tfidf)"
      ]
    },
    {
      "cell_type": "markdown",
      "metadata": {
        "id": "eUeR1fZBOh86"
      },
      "source": [
        "#Evaluate the model on the test set"
      ]
    },
    {
      "cell_type": "code",
      "execution_count": null,
      "metadata": {
        "id": "4WDLjuneOtyX",
        "colab": {
          "base_uri": "https://localhost:8080/"
        },
        "outputId": "1d145860-7271-46a0-ad80-fd05f74e59c3"
      },
      "outputs": [
        {
          "output_type": "stream",
          "name": "stdout",
          "text": [
            "Naive Bayes Classification Report:\n"
          ]
        },
        {
          "output_type": "stream",
          "name": "stderr",
          "text": [
            "/usr/local/lib/python3.10/dist-packages/sklearn/metrics/_classification.py:1344: UndefinedMetricWarning: Precision and F-score are ill-defined and being set to 0.0 in labels with no predicted samples. Use `zero_division` parameter to control this behavior.\n",
            "  _warn_prf(average, modifier, msg_start, len(result))\n",
            "/usr/local/lib/python3.10/dist-packages/sklearn/metrics/_classification.py:1344: UndefinedMetricWarning: Precision and F-score are ill-defined and being set to 0.0 in labels with no predicted samples. Use `zero_division` parameter to control this behavior.\n",
            "  _warn_prf(average, modifier, msg_start, len(result))\n"
          ]
        },
        {
          "output_type": "stream",
          "name": "stdout",
          "text": [
            "              precision    recall  f1-score   support\n",
            "\n",
            "      action       0.61      0.08      0.13      1314\n",
            "       adult       0.53      0.04      0.07       590\n",
            "   adventure       0.78      0.04      0.08       775\n",
            "   animation       0.00      0.00      0.00       498\n",
            "   biography       0.00      0.00      0.00       264\n",
            "      comedy       0.52      0.40      0.45      7446\n",
            "       crime       0.00      0.00      0.00       505\n",
            " documentary       0.56      0.88      0.69     13096\n",
            "       drama       0.45      0.83      0.58     13612\n",
            "      family       1.00      0.00      0.00       783\n",
            "     fantasy       0.00      0.00      0.00       322\n",
            "   game-show       0.96      0.12      0.22       193\n",
            "     history       0.00      0.00      0.00       243\n",
            "      horror       0.73      0.28      0.41      2204\n",
            "       music       0.76      0.10      0.18       731\n",
            "     musical       0.00      0.00      0.00       276\n",
            "     mystery       0.00      0.00      0.00       318\n",
            "        news       0.00      0.00      0.00       181\n",
            "  reality-tv       0.41      0.01      0.02       883\n",
            "     romance       0.00      0.00      0.00       672\n",
            "      sci-fi       0.70      0.02      0.05       646\n",
            "       short       0.61      0.10      0.16      5072\n",
            "       sport       0.80      0.09      0.16       431\n",
            "   talk-show       0.00      0.00      0.00       391\n",
            "    thriller       0.44      0.01      0.02      1590\n",
            "         war       0.00      0.00      0.00       132\n",
            "     western       0.96      0.53      0.69      1032\n",
            "\n",
            "    accuracy                           0.51     54200\n",
            "   macro avg       0.40      0.13      0.14     54200\n",
            "weighted avg       0.52      0.51      0.43     54200\n",
            "\n",
            "Naive Bayes Accuracy on Test Set: 0.5136715867158672\n"
          ]
        },
        {
          "output_type": "stream",
          "name": "stderr",
          "text": [
            "/usr/local/lib/python3.10/dist-packages/sklearn/metrics/_classification.py:1344: UndefinedMetricWarning: Precision and F-score are ill-defined and being set to 0.0 in labels with no predicted samples. Use `zero_division` parameter to control this behavior.\n",
            "  _warn_prf(average, modifier, msg_start, len(result))\n"
          ]
        }
      ],
      "source": [
        "accuracy_test = accuracy_score(df_test_solution['GENRE'], predictions_test)\n",
        "print(\"Naive Bayes Classification Report:\")\n",
        "print(classification_report(df_test_solution['GENRE'], predictions_test))\n",
        "print(f\"Naive Bayes Accuracy on Test Set: {accuracy_test}\")"
      ]
    },
    {
      "cell_type": "markdown",
      "metadata": {
        "id": "AZi_Sn4SOh-s"
      },
      "source": [
        "#Example (Thriller Movie)"
      ]
    },
    {
      "cell_type": "code",
      "execution_count": null,
      "metadata": {
        "id": "z76f0eKvQZxc",
        "colab": {
          "base_uri": "https://localhost:8080/"
        },
        "outputId": "81ccd015-2f5c-4359-9e4a-826671049e73"
      },
      "outputs": [
        {
          "output_type": "stream",
          "name": "stdout",
          "text": [
            "Input: A former detective haunted by his dark past is drawn into a high-stakes conspiracy when he receives a mysterious letter revealing a secret society's plan to unleash a deadly biological weapon. As he races against time to unravel the truth, he discovers that the key to stopping the impending catastrophe lies in solving a series of cryptic puzzles. The tension escalates as he navigates a web of deceit, facing unpredictable twists and betrayals. Will he uncover the sinister plot and save the world, or will the shadowy forces behind it all succeed in their malevolent scheme?\n",
            "Predicted Genre By Model: thriller\n",
            "\n"
          ]
        }
      ],
      "source": [
        "# Your input data for testing\n",
        "input_data = [\n",
        "\"A former detective haunted by his dark past is drawn into a high-stakes conspiracy when he receives a mysterious letter revealing a secret society's plan to unleash a deadly biological weapon. As he races against time to unravel the truth, he discovers that the key to stopping the impending catastrophe lies in solving a series of cryptic puzzles. The tension escalates as he navigates a web of deceit, facing unpredictable twists and betrayals. Will he uncover the sinister plot and save the world, or will the shadowy forces behind it all succeed in their malevolent scheme?\"]\n",
        "\n",
        "# Transform the input data using the TF-IDF vectorizer\n",
        "X_input_tfidf = tfidf_vectorizer.transform(input_data)\n",
        "\n",
        "# Predict the genres for the input data\n",
        "y_input_pred = clf.predict(X_input_tfidf)\n",
        "\n",
        "# Print the predicted genres for the input data\n",
        "for input_text, predicted_genre in zip(input_data, y_input_pred):\n",
        "    print(f\"Input: {input_text}\\nPredicted Genre By Model: {predicted_genre}\\n\")"
      ]
    },
    {
      "cell_type": "markdown",
      "source": [
        "#Example (Comedy Movie)"
      ],
      "metadata": {
        "id": "AlwIT1I6vxrW"
      }
    },
    {
      "cell_type": "code",
      "source": [
        "# Your input data for testing\n",
        "input_data = [\n",
        "\"In a small town where laughter is scarce, a quirky group of misfit comedians sets out to bring joy to their community. The leader, a failed stand-up comedian with a heart of gold, hatches a plan to organize a hilarious talent show to raise funds for the struggling local comedy club. As the group encounters various comedic challenges and absurd situations, they learn the true meaning of friendship and the power of laughter. With side-splitting performances and heartwarming moments, this comedy is a feel-good journey that will leave the audience in stitches.\"]\n",
        "\n",
        "# Transform the input data using the TF-IDF vectorizer\n",
        "X_input_tfidf = tfidf_vectorizer.transform(input_data)\n",
        "\n",
        "# Predict the genres for the input data\n",
        "y_input_pred = clf.predict(X_input_tfidf)\n",
        "\n",
        "# Print the predicted genres for the input data\n",
        "for input_text, predicted_genre in zip(input_data, y_input_pred):\n",
        "    print(f\"Input: {input_text}\\nPredicted Genre By Model: {predicted_genre}\\n\")"
      ],
      "metadata": {
        "id": "HzPccHjQvc_k",
        "colab": {
          "base_uri": "https://localhost:8080/"
        },
        "outputId": "b3f83f33-996e-4445-f536-48fe703ad7e1"
      },
      "execution_count": null,
      "outputs": [
        {
          "output_type": "stream",
          "name": "stdout",
          "text": [
            "Input: In a small town where laughter is scarce, a quirky group of misfit comedians sets out to bring joy to their community. The leader, a failed stand-up comedian with a heart of gold, hatches a plan to organize a hilarious talent show to raise funds for the struggling local comedy club. As the group encounters various comedic challenges and absurd situations, they learn the true meaning of friendship and the power of laughter. With side-splitting performances and heartwarming moments, this comedy is a feel-good journey that will leave the audience in stitches.\n",
            "Predicted Genre By Model: comedy\n",
            "\n"
          ]
        }
      ]
    }
  ],
  "metadata": {
    "colab": {
      "provenance": []
    },
    "kernelspec": {
      "display_name": "Python 3",
      "name": "python3"
    },
    "language_info": {
      "name": "python"
    }
  },
  "nbformat": 4,
  "nbformat_minor": 0
}